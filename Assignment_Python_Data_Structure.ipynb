{
 "cells": [
  {
   "cell_type": "markdown",
   "id": "f5f165ad-56e9-4f8d-8a01-5b8bbeb12a34",
   "metadata": {},
   "source": [
    "# Data Types and Structures Questions"
   ]
  },
  {
   "cell_type": "code",
   "execution_count": 88,
   "id": "29e8a411-a99e-457d-aa3a-c31a0d8b45f5",
   "metadata": {},
   "outputs": [],
   "source": [
    "# Q1. What are data structures, and why are they important?  \n",
    "# Ans 1) Data structures are specialized formats for organizing, storing, and accessing collections of data.  \n",
    "\n",
    "#        Importance\n",
    "\n",
    "#        Choosing the right data structure significantly impacts the efficiency and performance of your program.\n",
    "#        Well-chosen data structures can:\n",
    "#        Simplify data manipulation (adding, removing, modifying elements)\n",
    "#        Optimize searching and sorting operations\n",
    "#        Conserve memory usage"
   ]
  },
  {
   "cell_type": "code",
   "execution_count": 89,
   "id": "2d9f3313-27bc-4929-ad5c-bb39d9b740cf",
   "metadata": {},
   "outputs": [
    {
     "name": "stdout",
     "output_type": "stream",
     "text": [
      "[10, 2, 3]\n"
     ]
    },
    {
     "ename": "TypeError",
     "evalue": "'tuple' object does not support item assignment",
     "output_type": "error",
     "traceback": [
      "\u001b[1;31m---------------------------------------------------------------------------\u001b[0m",
      "\u001b[1;31mTypeError\u001b[0m                                 Traceback (most recent call last)",
      "Cell \u001b[1;32mIn[89], line 10\u001b[0m\n\u001b[0;32m      7\u001b[0m \u001b[38;5;66;03m#        Immutable data types cannot be changed after creation.  \u001b[39;00m\n\u001b[0;32m      8\u001b[0m \u001b[38;5;66;03m#        Example: A tuple my_tuple = (1, 2, 3) cannot be modified.\u001b[39;00m\n\u001b[0;32m      9\u001b[0m my_tuple \u001b[38;5;241m=\u001b[39m (\u001b[38;5;241m1\u001b[39m, \u001b[38;5;241m2\u001b[39m, \u001b[38;5;241m3\u001b[39m)\n\u001b[1;32m---> 10\u001b[0m a \u001b[38;5;241m=\u001b[39m \u001b[43mmy_tuple\u001b[49m\u001b[43m[\u001b[49m\u001b[38;5;241;43m0\u001b[39;49m\u001b[43m]\u001b[49m \u001b[38;5;241m=\u001b[39m \u001b[38;5;241m10\u001b[39m\n\u001b[0;32m     11\u001b[0m \u001b[38;5;28mprint\u001b[39m(a)\n",
      "\u001b[1;31mTypeError\u001b[0m: 'tuple' object does not support item assignment"
     ]
    }
   ],
   "source": [
    "# Q2. Explain the difference between mutable and immutable data types with examples.  \n",
    "# Ans 2) Mutable data types can be changed after creation.  \n",
    "#        Example: A list my_list = [1, 2, 3] can be modified.  \n",
    "my_list = [1, 2, 3]\n",
    "my_list[0] = 10\n",
    "print(my_list)\n",
    "#        Immutable data types cannot be changed after creation.  \n",
    "#        Example: A tuple my_tuple = (1, 2, 3) cannot be modified.\n",
    "my_tuple = (1, 2, 3)\n",
    "a = my_tuple[0] = 10\n",
    "print(a)"
   ]
  },
  {
   "cell_type": "code",
   "execution_count": 90,
   "id": "13afe11d-9684-417b-8355-836e451305a1",
   "metadata": {},
   "outputs": [],
   "source": [
    "# Q3. What are the main differences between lists and tuples in Python?  \n",
    "# Ans 3) Lists are mutable, meaning you can change, add, or remove items.\n",
    "#        They are defined using square brackets\n",
    "#        Example: my_list = [1, 2, 3]  \n",
    "#        Tuples are immutable, meaning their values cannot be changed after creation.\n",
    "#        They are defined using parentheses\n",
    "#        Example: my_tuple = (1, 2, 3)"
   ]
  },
  {
   "cell_type": "code",
   "execution_count": 91,
   "id": "6f618ac1-38b1-4a44-bcac-e00e1f897d7d",
   "metadata": {},
   "outputs": [],
   "source": [
    "# Q4. Describe how dictionaries store data.  \n",
    "# Ans 4) Dictionaries store data as key-value pairs.  \n",
    "#        Example: my_dict = {\"name\": \"Yash\", \"age\": 25}  \n",
    "#        You can access data using keys. For example: my_dict[\"name\"] will give Yash."
   ]
  },
  {
   "cell_type": "code",
   "execution_count": 92,
   "id": "a74f666f-97e3-426c-9984-9343db5608b7",
   "metadata": {},
   "outputs": [],
   "source": [
    "# Q5. Why might you use a set instead of a list in Python?\n",
    "# Ans 5) Sets are useful when you need to store unique elements and avoid duplicates.\n",
    "#        Sets also provide faster membership testing (in keyword) compared to lists\n"
   ]
  },
  {
   "cell_type": "code",
   "execution_count": 93,
   "id": "b83f65a0-e769-4cd3-b137-96c2e83692f5",
   "metadata": {},
   "outputs": [],
   "source": [
    "# Q6. What is a string in Python, and how is it different from a list?\n",
    "# Ans 6) A string is a sequence of characters enclosed in single or double quotes.\n",
    "#        Example: my_string = \"Hello\"\n",
    "#        A list is an ordered collection of elements, and it can contain any data type (including strings, numbers, and other lists).\n",
    "#        Example: my_list = [1, 2, \"apple\", [3, 4]]"
   ]
  },
  {
   "cell_type": "code",
   "execution_count": 94,
   "id": "ece070db-bf87-4666-b47c-5afebb7686be",
   "metadata": {},
   "outputs": [],
   "source": [
    "# Q7. How do tuples ensure data integrity in Python?\n",
    "# Ans 7) Tuples are immutable, means their content can not be changed once created.\n",
    "#        This ensures data integrity because you can be sure that the values within a tuple will not be accidentally modified."
   ]
  },
  {
   "cell_type": "code",
   "execution_count": 95,
   "id": "c7905d32-91e7-4304-a8fb-45db9360cbf0",
   "metadata": {},
   "outputs": [],
   "source": [
    "# Q8. What is a hash table, and how does it relate to dictionaries in Python?\n",
    "# Ans 8) A hash table is a data structure that stores key-value pairs,\n",
    "#        using a hash function to compute an index where the value is stored.\n",
    "#        Dictionaries in Python are implemented using hash tables.\n",
    "#        Hashing ensures quick lookups, insertions, and deletions by using the keys to compute hash values."
   ]
  },
  {
   "cell_type": "code",
   "execution_count": 96,
   "id": "6590d962-5d6e-4043-9037-f541a7a555d6",
   "metadata": {},
   "outputs": [
    {
     "data": {
      "text/plain": [
       "[1, 2, 'apple', [3, 4]]"
      ]
     },
     "execution_count": 96,
     "metadata": {},
     "output_type": "execute_result"
    }
   ],
   "source": [
    "# Q9. Can lists contain different data types in Python?\n",
    "# Ans 9) Yes, lists in Python can contain different types of data.\n",
    "my_list = [1, 2, \"apple\", [3, 4]]\n",
    "my_list"
   ]
  },
  {
   "cell_type": "code",
   "execution_count": 97,
   "id": "93018bb8-4ca2-4077-b61f-6e57ebf07182",
   "metadata": {},
   "outputs": [],
   "source": [
    "# Q10. Explain why strings are immutable in Python\n",
    "# Ans 10) Strings are immutable in Python to ensure efficiency and data integrity.\n",
    "#         When strings are immutable, they can be shared across the program \n",
    "#         without worrying about their values being accidentally modified."
   ]
  },
  {
   "cell_type": "code",
   "execution_count": 98,
   "id": "e12ffb13-cb9e-47a6-b81d-58eaf95a073a",
   "metadata": {},
   "outputs": [],
   "source": [
    "# Q11. What advantages do dictionaries offer over lists for certain tasks?\n",
    "# Ans 11) Dictionaries provide fast key-value lookups compared to lists.\n",
    "#         Dictionaries are optimal when you need to store and quickly retrieve data using unique keys."
   ]
  },
  {
   "cell_type": "code",
   "execution_count": 99,
   "id": "029882e4-9ee9-401b-a497-89d0f6e39b59",
   "metadata": {},
   "outputs": [],
   "source": [
    "# Q12. Describe a scenario where using a tuple would be preferable over a list\n",
    "# Ans 12) Tuples are preferable when you need to store constant data that should not be modified.\n",
    "#         Example: Storing coordinates or RGB color values where the data must remain unchanged."
   ]
  },
  {
   "cell_type": "code",
   "execution_count": 100,
   "id": "1d3061bb-9c54-4774-9075-7fc1bee5408e",
   "metadata": {},
   "outputs": [],
   "source": [
    "# Q13. How do sets handle duplicate values in Python?\n",
    "# Ans 13) Sets automatically remove duplicates. \n",
    "#         When you add duplicate values, only one instance of each element is stored."
   ]
  },
  {
   "cell_type": "code",
   "execution_count": 101,
   "id": "ca57a90d-9865-4a8f-99c0-1254599d3399",
   "metadata": {},
   "outputs": [],
   "source": [
    "# Q14. How does the “in” keyword work differently for lists and dictionaries?\n",
    "# Ans 14) In lists, the \"in keyword\" checks for the presence of a value.\n",
    "#         In dictionaries, the \"in keyword\" checks for the presence of a key, not the value."
   ]
  },
  {
   "cell_type": "code",
   "execution_count": 102,
   "id": "6a70d7f6-50c9-490f-8695-3c367e054a70",
   "metadata": {},
   "outputs": [],
   "source": [
    "# Q15. Can you modify the elements of a tuple? Explain why or why not\n",
    "# Ans 15) No, tuples are immutable.\n",
    "#         so you cannot modify their elements after creation.\n",
    "#         because of data integrity and efficient memory usage."
   ]
  },
  {
   "cell_type": "code",
   "execution_count": 103,
   "id": "c08cd012-028a-45f7-aa15-ce61826e077d",
   "metadata": {},
   "outputs": [
    {
     "name": "stdout",
     "output_type": "stream",
     "text": [
      "Yash\n"
     ]
    }
   ],
   "source": [
    "# Q16. What is a nested dictionary, and give an example of its use case\n",
    "# Ans 16) A nested dictionary is a dictionary that contains another dictionary as a value for one of its keys.\n",
    "my_dict = {\"student1\": {\"name\": \"Yash\", \"age\": 20},\"student2\": {\"name\": \"Arjun\", \"age\": 22}}\n",
    "print(my_dict[\"student1\"][\"name\"])"
   ]
  },
  {
   "cell_type": "code",
   "execution_count": 104,
   "id": "17ed7e3b-f1e7-4b30-8645-d9ac685d631d",
   "metadata": {},
   "outputs": [],
   "source": [
    "# Q17. Describe the time complexity of accessing elements in a dictionary\n",
    "# Ans 17) The time complexity of accessing elements in a dictionary is O(1) (constant time)."
   ]
  },
  {
   "cell_type": "code",
   "execution_count": 105,
   "id": "148a7cdc-f37b-4998-a8c9-a98dff011087",
   "metadata": {},
   "outputs": [],
   "source": [
    "# Q18. In what situations are lists preferred over dictionaries?\n",
    "# Ans 18) Lists are preferred when you need to store ordered collections of items, \n",
    "#         Especially when the order is important or you need to access elements by their index.\n",
    "#         Example : toring a collection of items like names or numbers in a specific order."
   ]
  },
  {
   "cell_type": "code",
   "execution_count": 106,
   "id": "e1809769-9c5e-492e-bb93-f1f6f57a315c",
   "metadata": {},
   "outputs": [],
   "source": [
    "# Q19. Why are dictionaries considered unordered, and how does that affect data retrieval?\n",
    "# Ans 19) Dictionaries are considered unordered because the elements do not maintain any specific order.\n",
    "#         Data retrieval in dictionaries is based on keys and is efficient. "
   ]
  },
  {
   "cell_type": "code",
   "execution_count": 107,
   "id": "8f0ea0ba-f602-4a64-a131-5a78424ba55b",
   "metadata": {},
   "outputs": [
    {
     "name": "stdout",
     "output_type": "stream",
     "text": [
      "1\n",
      "Yash\n"
     ]
    }
   ],
   "source": [
    "# Q20. Explain the difference between a list and a dictionary in terms of data retrieval.\n",
    "# Ans 20) In lists, data is accessed by index.\n",
    "my_list = [1, 2, 3]\n",
    "print(my_list[0])\n",
    "\n",
    "#        In dictionaries, data is accessed by key.\n",
    "my_dict = {\"name\": \"Yash\", \"age\": 30}\n",
    "print(my_dict['name'])"
   ]
  },
  {
   "cell_type": "code",
   "execution_count": null,
   "id": "29a4df6f-73b7-4bc1-8588-f65fb1682c45",
   "metadata": {},
   "outputs": [],
   "source": []
  },
  {
   "cell_type": "markdown",
   "id": "db99a8a8-f754-4b80-b244-59512407a57f",
   "metadata": {},
   "source": [
    "# Practical Question"
   ]
  },
  {
   "cell_type": "code",
   "execution_count": 108,
   "id": "11c7887e-a275-4cc0-b348-c1e57d5a82d5",
   "metadata": {},
   "outputs": [
    {
     "name": "stdout",
     "output_type": "stream",
     "text": [
      "Yash <class 'str'>\n"
     ]
    }
   ],
   "source": [
    "# Q1. Write a code to create a string with your name and print it.\n",
    "\n",
    "x = \"Yash\"\n",
    "print(x,type(x))"
   ]
  },
  {
   "cell_type": "code",
   "execution_count": 109,
   "id": "f3a76d66-2967-4a37-9689-cc72630594bd",
   "metadata": {},
   "outputs": [
    {
     "name": "stdout",
     "output_type": "stream",
     "text": [
      "11\n"
     ]
    }
   ],
   "source": [
    "# Q2. Write a code to find the length of the string \"Hello World\"?\n",
    "\n",
    "x1 = \"Hello World\"\n",
    "\n",
    "print(len(x1))"
   ]
  },
  {
   "cell_type": "code",
   "execution_count": 110,
   "id": "869d5c72-6f7d-4875-a2bd-67ec33c97d11",
   "metadata": {},
   "outputs": [
    {
     "name": "stdout",
     "output_type": "stream",
     "text": [
      "Pyt\n"
     ]
    }
   ],
   "source": [
    "# Q3. Write a code to slice the first 3 characters from the string \"Python Programming\"?\n",
    "\n",
    "x2 = \"Python Programming\"\n",
    "\n",
    "print(x2[:3])"
   ]
  },
  {
   "cell_type": "code",
   "execution_count": 111,
   "id": "d0ab7c61-9ff7-402e-8d10-f29e086c8353",
   "metadata": {},
   "outputs": [
    {
     "name": "stdout",
     "output_type": "stream",
     "text": [
      "HELLO\n"
     ]
    }
   ],
   "source": [
    "# Q4. Write a code to convert the string \"hello\" to uppercase?\n",
    "\n",
    "x3 = \"hello\"\n",
    "\n",
    "print(x3.upper())"
   ]
  },
  {
   "cell_type": "code",
   "execution_count": 112,
   "id": "9baeed84-3b43-446f-9cef-44567e9e7aa2",
   "metadata": {},
   "outputs": [
    {
     "name": "stdout",
     "output_type": "stream",
     "text": [
      "I like orange\n"
     ]
    }
   ],
   "source": [
    "# Q5. Write a code to replace the word \"apple\" with \"orange\" in the string \"I like apple\"?\n",
    "\n",
    "x4 = \"I like apple\"\n",
    "\n",
    "print(x4.replace(\"apple\",\"orange\"))"
   ]
  },
  {
   "cell_type": "code",
   "execution_count": 113,
   "id": "cfd804e7-6c49-4a5c-8f91-41719dda8e37",
   "metadata": {},
   "outputs": [
    {
     "name": "stdout",
     "output_type": "stream",
     "text": [
      "[1, 2, 3, 4, 5]\n"
     ]
    }
   ],
   "source": [
    "# Q6. Write a code to create a list with numbers 1 to 5 and print it?\n",
    "\n",
    "x5 = []\n",
    "\n",
    "for i in range(1,6):\n",
    "    x5.append(i)\n",
    "\n",
    "print(x5)"
   ]
  },
  {
   "cell_type": "code",
   "execution_count": 114,
   "id": "97978492-b778-456c-b3bb-8657db7b442c",
   "metadata": {},
   "outputs": [
    {
     "data": {
      "text/plain": [
       "[1, 2, 3, 4, 10]"
      ]
     },
     "execution_count": 114,
     "metadata": {},
     "output_type": "execute_result"
    }
   ],
   "source": [
    "# Q7. Write a code to append the number 10 to the list [1, 2, 3, 4]?\n",
    "\n",
    "list = [1, 2, 3, 4]\n",
    "list.append(10)\n",
    "list"
   ]
  },
  {
   "cell_type": "code",
   "execution_count": 115,
   "id": "ee6ae3ad-b240-4f72-a435-751f98ced404",
   "metadata": {},
   "outputs": [
    {
     "data": {
      "text/plain": [
       "[1, 2, 4, 5]"
      ]
     },
     "execution_count": 115,
     "metadata": {},
     "output_type": "execute_result"
    }
   ],
   "source": [
    "# Q8. Write a code to remove the number 3 from the list [1, 2, 3, 4, 5]?\n",
    "\n",
    "list1 = [1, 2, 3, 4, 5]\n",
    "list1.remove(3)\n",
    "list1"
   ]
  },
  {
   "cell_type": "code",
   "execution_count": 116,
   "id": "5adf0b50-9497-487c-adf6-a66cf3fdcc1c",
   "metadata": {},
   "outputs": [
    {
     "name": "stdout",
     "output_type": "stream",
     "text": [
      "b\n"
     ]
    }
   ],
   "source": [
    "# Q9. Write a code to access the second element in the list ['a', 'b', 'c', 'd']?\n",
    "\n",
    "list3 = [\"a\", \"b\", \"c\", \"d\"]\n",
    "\n",
    "print(list3[1])"
   ]
  },
  {
   "cell_type": "code",
   "execution_count": 117,
   "id": "e2c94b2d-936b-4177-b4ec-ed07748d941d",
   "metadata": {},
   "outputs": [
    {
     "name": "stdout",
     "output_type": "stream",
     "text": [
      "[50, 40, 30, 20, 10]\n"
     ]
    }
   ],
   "source": [
    "# Q10. Write a code to reverse the list [10, 20, 30, 40, 50].\n",
    "\n",
    "list4 = [10, 20, 30, 40, 50]\n",
    "print(list4[::-1])\n"
   ]
  },
  {
   "cell_type": "code",
   "execution_count": 118,
   "id": "efd17680-3e70-4feb-9e01-2c92887ea378",
   "metadata": {},
   "outputs": [
    {
     "name": "stdout",
     "output_type": "stream",
     "text": [
      "(100, 200, 300) <class 'tuple'>\n"
     ]
    }
   ],
   "source": [
    "# Q11. Write a code to create a tuple with the elements 100, 200, 300 and print it.\n",
    "\n",
    "tuple = (100, 200, 300)\n",
    "print(tuple, type(tuple))"
   ]
  },
  {
   "cell_type": "code",
   "execution_count": 119,
   "id": "7bddb0ae-487a-4abc-92ad-fd74b054e3b1",
   "metadata": {},
   "outputs": [
    {
     "name": "stdout",
     "output_type": "stream",
     "text": [
      "blue\n"
     ]
    }
   ],
   "source": [
    "# Q12. Write a code to access the second-to-last element of the tuple ('red', 'green', 'blue', 'yellow').\n",
    "\n",
    "tuple2 = ('red', 'green', 'blue', 'yellow')\n",
    "\n",
    "print(tuple2[-2])"
   ]
  },
  {
   "cell_type": "code",
   "execution_count": 120,
   "id": "d956d7cf-d60f-4063-baff-b9a85cc9427a",
   "metadata": {},
   "outputs": [
    {
     "name": "stdout",
     "output_type": "stream",
     "text": [
      "5\n"
     ]
    }
   ],
   "source": [
    "# Q13. Write a code to find the minimum number in the tuple (10, 20, 5, 15).\n",
    "\n",
    "tuple_2 = (10, 20, 5, 15)\n",
    "\n",
    "print(min(tuple_2))"
   ]
  },
  {
   "cell_type": "code",
   "execution_count": 121,
   "id": "9b6c0884-0a42-4f2b-926d-a4a2caf1f213",
   "metadata": {},
   "outputs": [
    {
     "name": "stdout",
     "output_type": "stream",
     "text": [
      "1\n"
     ]
    }
   ],
   "source": [
    "# Q14. Write a code to find the index of the element \"cat\" in the tuple ('dog', 'cat', 'rabbit')\n",
    "\n",
    "tuple_3 = ('dog', 'cat', 'rabbit')\n",
    "\n",
    "print(tuple_3.index(\"cat\"))"
   ]
  },
  {
   "cell_type": "code",
   "execution_count": 123,
   "id": "50ab1134-8ae6-4c2e-9c2c-7cbe991e832b",
   "metadata": {},
   "outputs": [
    {
     "name": "stdin",
     "output_type": "stream",
     "text": [
      "Enter 1 fruit name  apple\n",
      "Enter 2 fruit name  kiwi\n",
      "Enter 3 fruit name  orange\n"
     ]
    },
    {
     "name": "stdout",
     "output_type": "stream",
     "text": [
      "('apple', 'kiwi', 'orange')\n",
      "kiwi is available\n"
     ]
    }
   ],
   "source": [
    "# Q15. Write a code to create a tuple containing three different fruits and check if \"kiwi\" is in it.\n",
    "\n",
    "n = 3\n",
    "tuple_4 = ()\n",
    "\n",
    "for i in range(1,n+1):\n",
    "    p = input(f\"Enter {i} fruit name \")\n",
    "    tuple_4 = tuple_4 + (p,)\n",
    "print(tuple_4)\n",
    "\n",
    "if \"kiwi\" in tuple_4:\n",
    "    print(\"kiwi is available\")\n",
    "else:\n",
    "    print(\"kiwi is not available\")"
   ]
  },
  {
   "cell_type": "code",
   "execution_count": 124,
   "id": "a3b1a7be-8796-4095-a718-6a3b9d323ff5",
   "metadata": {},
   "outputs": [
    {
     "name": "stdout",
     "output_type": "stream",
     "text": [
      "{'b', 'a', 'c'} <class 'type'>\n"
     ]
    }
   ],
   "source": [
    "# Q16. Write a code to create a set with the elements 'a', 'b', 'c' and print it.\n",
    "\n",
    "set9 = {\"a\", \"b\", \"c\"}\n",
    "\n",
    "print(set9, type(set))"
   ]
  },
  {
   "cell_type": "code",
   "execution_count": 125,
   "id": "b0327ace-4f96-4b46-a3cb-feca4c882837",
   "metadata": {},
   "outputs": [
    {
     "name": "stdout",
     "output_type": "stream",
     "text": [
      "set()\n"
     ]
    }
   ],
   "source": [
    "# Q17. Write a code to clear all elements from the set {1, 2, 3, 4, 5}.\n",
    "\n",
    "set_1 = {1, 2, 3, 4, 5}\n",
    "set_1.clear()\n",
    "print(set_1)"
   ]
  },
  {
   "cell_type": "code",
   "execution_count": 126,
   "id": "507be08e-0a96-4dfe-81e3-14fbf116db19",
   "metadata": {},
   "outputs": [
    {
     "name": "stdout",
     "output_type": "stream",
     "text": [
      "{1, 2, 3}\n"
     ]
    }
   ],
   "source": [
    "# Q18. Write a code to remove the element 4 from the set {1, 2, 3, 4}.\n",
    "\n",
    "set_2 = {1, 2, 3, 4}\n",
    "\n",
    "set_2.discard(4)\n",
    "print(set_2)"
   ]
  },
  {
   "cell_type": "code",
   "execution_count": 127,
   "id": "7d993157-b3d8-4ffd-8c81-d9aacf81fe34",
   "metadata": {},
   "outputs": [
    {
     "data": {
      "text/plain": [
       "{1, 2, 3, 4, 5}"
      ]
     },
     "execution_count": 127,
     "metadata": {},
     "output_type": "execute_result"
    }
   ],
   "source": [
    "# Q19. Write a code to find the union of two sets {1, 2, 3} and {3, 4, 5}.\n",
    "\n",
    "set_11 = {1, 2, 3}\n",
    "set_12 = {3, 4, 5}\n",
    "\n",
    "set_11 | set_12"
   ]
  },
  {
   "cell_type": "code",
   "execution_count": 128,
   "id": "7f60ca39-3f3a-486a-a502-2b181917b74d",
   "metadata": {},
   "outputs": [
    {
     "data": {
      "text/plain": [
       "{2, 3}"
      ]
     },
     "execution_count": 128,
     "metadata": {},
     "output_type": "execute_result"
    }
   ],
   "source": [
    "# Q20. Write a code to find the intersection of two sets {1, 2, 3} and {2, 3, 4}.\n",
    "\n",
    "set_13 = {1, 2, 3}\n",
    "set_14 = {2, 3, 4}\n",
    "\n",
    "set_13 & set_14"
   ]
  },
  {
   "cell_type": "code",
   "execution_count": 129,
   "id": "8ca8e6fc-eb2f-4732-8d39-fbd0855a8155",
   "metadata": {},
   "outputs": [
    {
     "name": "stdout",
     "output_type": "stream",
     "text": [
      "{'name': 'Yash', 'age': 15, 'city': 'delhi'} <class 'dict'>\n"
     ]
    }
   ],
   "source": [
    "# Q21. Write a code to create a dictionary with the keys \"name\", \"age\", and \"city\", and print it\n",
    "\n",
    "dict = {\"name\" : \"Yash\", \"age\" :15, \"city\" : \"delhi\"}\n",
    "\n",
    "print(dict, type(dict))"
   ]
  },
  {
   "cell_type": "code",
   "execution_count": 130,
   "id": "e8a6ec5e-6ac5-4e64-9ac4-e1645b8cc0e9",
   "metadata": {},
   "outputs": [
    {
     "name": "stdout",
     "output_type": "stream",
     "text": [
      "{'name': 'John', 'age': 25, 'country': 'USA'}\n"
     ]
    }
   ],
   "source": [
    "# Q22. Write a code to add a new key-value pair \"country\": \"USA\" to the dictionary {'name': 'John', 'age': 25}.\n",
    "\n",
    "dict1 = {'name': 'John', 'age': 25}\n",
    "\n",
    "dict1[\"country\"] = \"USA\"\n",
    "\n",
    "print(dict1)"
   ]
  },
  {
   "cell_type": "code",
   "execution_count": 131,
   "id": "add05f2a-84b7-4240-bd1b-1bdccc9bc3f2",
   "metadata": {},
   "outputs": [
    {
     "name": "stdout",
     "output_type": "stream",
     "text": [
      "Alice\n"
     ]
    }
   ],
   "source": [
    "# Q23. Write a code to access the value associated with the key \"name\" in the dictionary {'name': 'Alice', 'age': 30}\n",
    "\n",
    "dic = {'name': 'Alice', 'age': 30}\n",
    "\n",
    "print(dic[\"name\"])"
   ]
  },
  {
   "cell_type": "code",
   "execution_count": 132,
   "id": "b967219b-1541-4133-b464-dce6ec1d2ac4",
   "metadata": {},
   "outputs": [
    {
     "name": "stdout",
     "output_type": "stream",
     "text": [
      "{'name': 'Bob', 'city': 'New York'}\n"
     ]
    }
   ],
   "source": [
    "# Q24. Write a code to remove the key \"age\" from the dictionary {'name': 'Bob', 'age': 22, 'city': 'New York'}.\n",
    "\n",
    "dic4 = {'name': 'Bob', 'age': 22, 'city': 'New York'}\n",
    "\n",
    "dic4.pop(\"age\")\n",
    "print(dic4)"
   ]
  },
  {
   "cell_type": "code",
   "execution_count": 133,
   "id": "1eddaed5-3ae1-49ff-8666-0dbeec1a84ac",
   "metadata": {},
   "outputs": [
    {
     "name": "stdout",
     "output_type": "stream",
     "text": [
      "Exists\n"
     ]
    }
   ],
   "source": [
    "# Q25. Write a code to check if the key \"city\" exists in the dictionary {'name': 'Alice', 'city': 'Paris'}.\n",
    "\n",
    "dict_3 = {'name': 'Alice', 'city': 'Paris'}\n",
    "\n",
    "if \"city\" in dict_3.keys():\n",
    "    print(\"Exists\")\n",
    "else:\n",
    "    print(\"Does not exists\")"
   ]
  },
  {
   "cell_type": "code",
   "execution_count": 134,
   "id": "7a6e98a2-9c0b-4b21-9dfa-6c21ff34b41f",
   "metadata": {},
   "outputs": [
    {
     "name": "stdout",
     "output_type": "stream",
     "text": [
      "List: [1, 2, 3, 4, 5]\n",
      "Tuple: ('apple', 'banana', 'kiwi')\n",
      "Dictionary: {'name': 'Yash', 'age': 25, 'city': 'Delhi'}\n"
     ]
    }
   ],
   "source": [
    "# Q26. Write a code to create a list, a tuple, and a dictionary, and print them all.\n",
    "\n",
    "my_list = [1, 2, 3, 4, 5]\n",
    "my_tuple = (\"apple\", \"banana\", \"kiwi\")\n",
    "my_dict = {\"name\": \"Yash\", \"age\": 25, \"city\": \"Delhi\"}\n",
    "\n",
    "print(\"List:\", my_list)\n",
    "print(\"Tuple:\", my_tuple)\n",
    "print(\"Dictionary:\", my_dict)"
   ]
  },
  {
   "cell_type": "code",
   "execution_count": 135,
   "id": "4dfc37a3-e994-4665-8d1d-90863b432572",
   "metadata": {},
   "outputs": [
    {
     "name": "stdout",
     "output_type": "stream",
     "text": [
      "[7, 11, 23, 25, 57]\n"
     ]
    }
   ],
   "source": [
    "# Q27. Write a code to create a list of 5 random numbers between 1 and 100, sort it in ascending order, and print the\n",
    "#      result.(replaced)\n",
    "\n",
    "import random\n",
    "\n",
    "# Generate a list of unique random numbers\n",
    "n = 5  # Number of random numbers\n",
    "li = random.sample(range(1, 101), n)\n",
    "li = sorted(li)\n",
    "print(li)"
   ]
  },
  {
   "cell_type": "code",
   "execution_count": 136,
   "id": "0b3e64da-41b9-43a0-9bea-3846e9222461",
   "metadata": {},
   "outputs": [
    {
     "name": "stdin",
     "output_type": "stream",
     "text": [
      "write a string(word/sentence) hello world\n"
     ]
    },
    {
     "name": "stdout",
     "output_type": "stream",
     "text": [
      "['h', 'e', 'l', 'l', 'o', ' ', 'w', 'o', 'r', 'l', 'd']\n",
      "element at third index : l\n"
     ]
    }
   ],
   "source": [
    "# Q28. Write a code to create a list with strings and print the element at the third index.\n",
    "\n",
    "string = input(\"write a string(word/sentence)\")\n",
    "\n",
    "list = []\n",
    "\n",
    "for i in range(len(string)):\n",
    "    list.append(string[i])\n",
    "    \n",
    "print(list)\n",
    "print(\"element at third index :\",list[3])"
   ]
  },
  {
   "cell_type": "code",
   "execution_count": 137,
   "id": "1ccc32ab-f69d-42be-993c-62dcb3dae2a7",
   "metadata": {},
   "outputs": [
    {
     "name": "stdout",
     "output_type": "stream",
     "text": [
      "{'name': 'Ajay', 'email': 'aj@gmail.com', 'contact': 1234, 'address': '26th cross, banaglaore'}\n"
     ]
    }
   ],
   "source": [
    "# Q29. Write a code to combine two dictionaries into one and print the result\n",
    "\n",
    "dic_8 = {\"name\":\"Ajay\", \"email\":\"aj@gmail.com\", \"contact\": 1234}\n",
    "dict_9 = {\"address\": \"26th cross, banaglaore\"}\n",
    "\n",
    "dic_8.update(dict_9)\n",
    "print(dic_8)"
   ]
  },
  {
   "cell_type": "code",
   "execution_count": 138,
   "id": "643c2d40-5fb1-487d-9be2-474439b7141a",
   "metadata": {},
   "outputs": [
    {
     "name": "stdout",
     "output_type": "stream",
     "text": [
      "{'b', 'a', 'd', 'c'}\n"
     ]
    }
   ],
   "source": [
    "# Q30. Write a code to convert a list of strings into a set.\n",
    "\n",
    "list = [\"a\", \"b\", \"c\", \"d\"]\n",
    "\n",
    "my_set = set(list)\n",
    "\n",
    "print(my_set)\n"
   ]
  },
  {
   "cell_type": "code",
   "execution_count": null,
   "id": "6efc9a0e-2140-4e9e-a852-8ef504946314",
   "metadata": {},
   "outputs": [],
   "source": []
  }
 ],
 "metadata": {
  "kernelspec": {
   "display_name": "Python 3 (ipykernel)",
   "language": "python",
   "name": "python3"
  },
  "language_info": {
   "codemirror_mode": {
    "name": "ipython",
    "version": 3
   },
   "file_extension": ".py",
   "mimetype": "text/x-python",
   "name": "python",
   "nbconvert_exporter": "python",
   "pygments_lexer": "ipython3",
   "version": "3.13.1"
  }
 },
 "nbformat": 4,
 "nbformat_minor": 5
}
